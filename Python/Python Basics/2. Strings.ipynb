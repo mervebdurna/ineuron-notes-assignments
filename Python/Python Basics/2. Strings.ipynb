{
 "cells": [
  {
   "cell_type": "markdown",
   "metadata": {},
   "source": [
    "# Strings "
   ]
  },
  {
   "cell_type": "code",
   "execution_count": 33,
   "metadata": {},
   "outputs": [],
   "source": [
    "# string slicing\n",
    "# concatination , multiplication\n",
    "# len"
   ]
  },
  {
   "cell_type": "code",
   "execution_count": 1,
   "metadata": {},
   "outputs": [],
   "source": [
    "s1 = 'Merve Bayram Durna'\n",
    "s2 = \"Merve Bayram Durna\"\n",
    "# both '' and \"\" is okay "
   ]
  },
  {
   "cell_type": "code",
   "execution_count": 2,
   "metadata": {},
   "outputs": [
    {
     "data": {
      "text/plain": [
       "str"
      ]
     },
     "execution_count": 2,
     "metadata": {},
     "output_type": "execute_result"
    }
   ],
   "source": [
    "type(s1)"
   ]
  },
  {
   "cell_type": "code",
   "execution_count": 3,
   "metadata": {},
   "outputs": [
    {
     "data": {
      "text/plain": [
       "'M'"
      ]
     },
     "execution_count": 3,
     "metadata": {},
     "output_type": "execute_result"
    }
   ],
   "source": [
    "s1[0]"
   ]
  },
  {
   "cell_type": "code",
   "execution_count": 5,
   "metadata": {},
   "outputs": [
    {
     "data": {
      "text/plain": [
       "'Merve'"
      ]
     },
     "execution_count": 5,
     "metadata": {},
     "output_type": "execute_result"
    }
   ],
   "source": [
    "s1[0:5]"
   ]
  },
  {
   "cell_type": "code",
   "execution_count": 6,
   "metadata": {},
   "outputs": [],
   "source": [
    "# forward index 0,1,2,3\n",
    "# backward index -1,-2"
   ]
  },
  {
   "cell_type": "code",
   "execution_count": 7,
   "metadata": {},
   "outputs": [
    {
     "data": {
      "text/plain": [
       "'a'"
      ]
     },
     "execution_count": 7,
     "metadata": {},
     "output_type": "execute_result"
    }
   ],
   "source": [
    "s1[-1]"
   ]
  },
  {
   "cell_type": "code",
   "execution_count": 8,
   "metadata": {},
   "outputs": [
    {
     "data": {
      "text/plain": [
       "'n'"
      ]
     },
     "execution_count": 8,
     "metadata": {},
     "output_type": "execute_result"
    }
   ],
   "source": [
    "s1[-2]"
   ]
  },
  {
   "cell_type": "code",
   "execution_count": 9,
   "metadata": {},
   "outputs": [
    {
     "ename": "SyntaxError",
     "evalue": "invalid syntax (<ipython-input-9-39cf3b6efba3>, line 1)",
     "output_type": "error",
     "traceback": [
      "\u001b[1;36m  File \u001b[1;32m\"<ipython-input-9-39cf3b6efba3>\"\u001b[1;36m, line \u001b[1;32m1\u001b[0m\n\u001b[1;33m    name = 'Merve's house'\u001b[0m\n\u001b[1;37m                  ^\u001b[0m\n\u001b[1;31mSyntaxError\u001b[0m\u001b[1;31m:\u001b[0m invalid syntax\n"
     ]
    }
   ],
   "source": [
    "name = 'Merve's house'  '# give a syntax error"
   ]
  },
  {
   "cell_type": "code",
   "execution_count": 13,
   "metadata": {},
   "outputs": [
    {
     "data": {
      "text/plain": [
       "\"Welcome Merve's house\""
      ]
     },
     "execution_count": 13,
     "metadata": {},
     "output_type": "execute_result"
    }
   ],
   "source": [
    "name = \"Welcome Merve's house\"\n",
    "name"
   ]
  },
  {
   "cell_type": "code",
   "execution_count": 16,
   "metadata": {},
   "outputs": [
    {
     "data": {
      "text/plain": [
       "'loeMreshue'"
      ]
     },
     "execution_count": 16,
     "metadata": {},
     "output_type": "execute_result"
    }
   ],
   "source": [
    "name[2::2] # start from 2.index to the end by jumping 2\n",
    "# [1:2:3] first start point , second end point, third step"
   ]
  },
  {
   "cell_type": "code",
   "execution_count": 20,
   "metadata": {},
   "outputs": [
    {
     "data": {
      "text/plain": [
       "\"esuoh s'evreM emocleW\""
      ]
     },
     "execution_count": 20,
     "metadata": {},
     "output_type": "execute_result"
    }
   ],
   "source": [
    "# reversed\n",
    "name[::-1]"
   ]
  },
  {
   "cell_type": "code",
   "execution_count": 18,
   "metadata": {},
   "outputs": [
    {
     "data": {
      "text/plain": [
       "'euhserMeolW'"
      ]
     },
     "execution_count": 18,
     "metadata": {},
     "output_type": "execute_result"
    }
   ],
   "source": [
    "name[::-2]"
   ]
  },
  {
   "cell_type": "code",
   "execution_count": 21,
   "metadata": {},
   "outputs": [
    {
     "data": {
      "text/plain": [
       "\"Welcome Merve's hou\""
      ]
     },
     "execution_count": 21,
     "metadata": {},
     "output_type": "execute_result"
    }
   ],
   "source": [
    "# cut last two caracter\n",
    "name[:-2]"
   ]
  },
  {
   "cell_type": "code",
   "execution_count": 23,
   "metadata": {},
   "outputs": [
    {
     "data": {
      "text/plain": [
       "''"
      ]
     },
     "execution_count": 23,
     "metadata": {},
     "output_type": "execute_result"
    }
   ],
   "source": [
    "# '' because direction -2 to -7 negative direction but jump step is positive thats why we got blank\n",
    "name[-2:-7:1]"
   ]
  },
  {
   "cell_type": "code",
   "execution_count": 24,
   "metadata": {},
   "outputs": [
    {
     "data": {
      "text/plain": [
       "'s hou'"
      ]
     },
     "execution_count": 24,
     "metadata": {},
     "output_type": "execute_result"
    }
   ],
   "source": [
    "name[-7:-2:1]"
   ]
  },
  {
   "cell_type": "code",
   "execution_count": 25,
   "metadata": {},
   "outputs": [
    {
     "data": {
      "text/plain": [
       "''"
      ]
     },
     "execution_count": 25,
     "metadata": {},
     "output_type": "execute_result"
    }
   ],
   "source": [
    " name[5:0] # wrong direction and jump direction thats whay we get ''"
   ]
  },
  {
   "cell_type": "code",
   "execution_count": 26,
   "metadata": {},
   "outputs": [
    {
     "data": {
      "text/plain": [
       "\"Welcome Merve's house\""
      ]
     },
     "execution_count": 26,
     "metadata": {},
     "output_type": "execute_result"
    }
   ],
   "source": [
    "name"
   ]
  },
  {
   "cell_type": "code",
   "execution_count": 27,
   "metadata": {},
   "outputs": [
    {
     "ename": "TypeError",
     "evalue": "can only concatenate str (not \"int\") to str",
     "output_type": "error",
     "traceback": [
      "\u001b[1;31m---------------------------------------------------------------------------\u001b[0m",
      "\u001b[1;31mTypeError\u001b[0m                                 Traceback (most recent call last)",
      "\u001b[1;32m<ipython-input-27-b980a6a6fceb>\u001b[0m in \u001b[0;36m<module>\u001b[1;34m\u001b[0m\n\u001b[1;32m----> 1\u001b[1;33m \u001b[0mname\u001b[0m \u001b[1;33m+\u001b[0m \u001b[1;36m1\u001b[0m\u001b[1;33m\u001b[0m\u001b[1;33m\u001b[0m\u001b[0m\n\u001b[0m",
      "\u001b[1;31mTypeError\u001b[0m: can only concatenate str (not \"int\") to str"
     ]
    }
   ],
   "source": [
    "name + 1"
   ]
  },
  {
   "cell_type": "code",
   "execution_count": 28,
   "metadata": {},
   "outputs": [
    {
     "data": {
      "text/plain": [
       "\"Welcome Merve's house1\""
      ]
     },
     "execution_count": 28,
     "metadata": {},
     "output_type": "execute_result"
    }
   ],
   "source": [
    "name + str(1)"
   ]
  },
  {
   "cell_type": "code",
   "execution_count": 29,
   "metadata": {},
   "outputs": [
    {
     "data": {
      "text/plain": [
       "\"Welcome Merve's house1\""
      ]
     },
     "execution_count": 29,
     "metadata": {},
     "output_type": "execute_result"
    }
   ],
   "source": [
    "name+'1'"
   ]
  },
  {
   "cell_type": "code",
   "execution_count": 30,
   "metadata": {},
   "outputs": [
    {
     "data": {
      "text/plain": [
       "\"Welcome Merve's house1\""
      ]
     },
     "execution_count": 30,
     "metadata": {},
     "output_type": "execute_result"
    }
   ],
   "source": [
    "name+\"1\""
   ]
  },
  {
   "cell_type": "code",
   "execution_count": 32,
   "metadata": {},
   "outputs": [
    {
     "data": {
      "text/plain": [
       "\"Welcome Merve's houseWelcome Merve's houseWelcome Merve's house\""
      ]
     },
     "execution_count": 32,
     "metadata": {},
     "output_type": "execute_result"
    }
   ],
   "source": [
    "name * 3"
   ]
  },
  {
   "cell_type": "code",
   "execution_count": 34,
   "metadata": {},
   "outputs": [
    {
     "data": {
      "text/plain": [
       "5"
      ]
     },
     "execution_count": 34,
     "metadata": {},
     "output_type": "execute_result"
    }
   ],
   "source": [
    "# in-built string function\n",
    "name.count('e')"
   ]
  },
  {
   "cell_type": "code",
   "execution_count": 36,
   "metadata": {},
   "outputs": [
    {
     "data": {
      "text/plain": [
       "'Merve bayram durna'"
      ]
     },
     "execution_count": 36,
     "metadata": {},
     "output_type": "execute_result"
    }
   ],
   "source": [
    "name = 'merve bayram durna'\n",
    "name.capitalize()"
   ]
  },
  {
   "cell_type": "code",
   "execution_count": 37,
   "metadata": {},
   "outputs": [
    {
     "data": {
      "text/plain": [
       "'      merve bayram durna      '"
      ]
     },
     "execution_count": 37,
     "metadata": {},
     "output_type": "execute_result"
    }
   ],
   "source": [
    "name.center(30)"
   ]
  },
  {
   "cell_type": "code",
   "execution_count": 38,
   "metadata": {},
   "outputs": [
    {
     "data": {
      "text/plain": [
       "False"
      ]
     },
     "execution_count": 38,
     "metadata": {},
     "output_type": "execute_result"
    }
   ],
   "source": [
    "name.isnumeric()"
   ]
  },
  {
   "cell_type": "code",
   "execution_count": 39,
   "metadata": {},
   "outputs": [
    {
     "data": {
      "text/plain": [
       "True"
      ]
     },
     "execution_count": 39,
     "metadata": {},
     "output_type": "execute_result"
    }
   ],
   "source": [
    "name.endswith('a')"
   ]
  },
  {
   "cell_type": "code",
   "execution_count": 40,
   "metadata": {},
   "outputs": [
    {
     "data": {
      "text/plain": [
       "'MERVE BAYRAM DURNA'"
      ]
     },
     "execution_count": 40,
     "metadata": {},
     "output_type": "execute_result"
    }
   ],
   "source": [
    "name.upper()"
   ]
  },
  {
   "cell_type": "code",
   "execution_count": 41,
   "metadata": {},
   "outputs": [
    {
     "data": {
      "text/plain": [
       "'Merve Bayram Durna'"
      ]
     },
     "execution_count": 41,
     "metadata": {},
     "output_type": "execute_result"
    }
   ],
   "source": [
    "name.title()"
   ]
  },
  {
   "cell_type": "code",
   "execution_count": 42,
   "metadata": {},
   "outputs": [
    {
     "data": {
      "text/plain": [
       "False"
      ]
     },
     "execution_count": 42,
     "metadata": {},
     "output_type": "execute_result"
    }
   ],
   "source": [
    "name.istitle()"
   ]
  },
  {
   "cell_type": "code",
   "execution_count": 43,
   "metadata": {},
   "outputs": [
    {
     "data": {
      "text/plain": [
       "'merve b*yr*m durn*'"
      ]
     },
     "execution_count": 43,
     "metadata": {},
     "output_type": "execute_result"
    }
   ],
   "source": [
    "name.replace('a',\"*\")"
   ]
  },
  {
   "cell_type": "code",
   "execution_count": 44,
   "metadata": {},
   "outputs": [
    {
     "data": {
      "text/plain": [
       "False"
      ]
     },
     "execution_count": 44,
     "metadata": {},
     "output_type": "execute_result"
    }
   ],
   "source": [
    "name.isspace()"
   ]
  },
  {
   "cell_type": "code",
   "execution_count": 45,
   "metadata": {},
   "outputs": [
    {
     "data": {
      "text/plain": [
       "True"
      ]
     },
     "execution_count": 45,
     "metadata": {},
     "output_type": "execute_result"
    }
   ],
   "source": [
    "name.isprintable()"
   ]
  },
  {
   "cell_type": "code",
   "execution_count": 46,
   "metadata": {},
   "outputs": [
    {
     "data": {
      "text/plain": [
       "'merve bayram durna'"
      ]
     },
     "execution_count": 46,
     "metadata": {},
     "output_type": "execute_result"
    }
   ],
   "source": [
    "name.strip() # strip the blanks at the end and at the beginning"
   ]
  },
  {
   "cell_type": "code",
   "execution_count": 47,
   "metadata": {},
   "outputs": [
    {
     "data": {
      "text/plain": [
       "['merve', 'bayram', 'durna']"
      ]
     },
     "execution_count": 47,
     "metadata": {},
     "output_type": "execute_result"
    }
   ],
   "source": [
    "name.split(' ')"
   ]
  },
  {
   "cell_type": "code",
   "execution_count": 49,
   "metadata": {},
   "outputs": [
    {
     "data": {
      "text/plain": [
       "['', 'erve bayra', ' durna']"
      ]
     },
     "execution_count": 49,
     "metadata": {},
     "output_type": "execute_result"
    }
   ],
   "source": [
    "name.split('m')"
   ]
  },
  {
   "cell_type": "code",
   "execution_count": 50,
   "metadata": {},
   "outputs": [
    {
     "data": {
      "text/plain": [
       "list"
      ]
     },
     "execution_count": 50,
     "metadata": {},
     "output_type": "execute_result"
    }
   ],
   "source": [
    "type(name.split('m'))"
   ]
  },
  {
   "cell_type": "code",
   "execution_count": 51,
   "metadata": {},
   "outputs": [
    {
     "ename": "SyntaxError",
     "evalue": "EOL while scanning string literal (<ipython-input-51-d50f8af0209f>, line 1)",
     "output_type": "error",
     "traceback": [
      "\u001b[1;36m  File \u001b[1;32m\"<ipython-input-51-d50f8af0209f>\"\u001b[1;36m, line \u001b[1;32m1\u001b[0m\n\u001b[1;33m    text = \"abndjj\u001b[0m\n\u001b[1;37m                  ^\u001b[0m\n\u001b[1;31mSyntaxError\u001b[0m\u001b[1;31m:\u001b[0m EOL while scanning string literal\n"
     ]
    }
   ],
   "source": [
    "text = \"abndjj\n",
    "ahjdjjkd\n",
    "njdjdkj\""
   ]
  },
  {
   "cell_type": "code",
   "execution_count": 54,
   "metadata": {},
   "outputs": [
    {
     "data": {
      "text/plain": [
       "\"Matematikçiler örüntüleri araştırır ve bunları yeni konjektürler formüle etmekte kullanırlar. Bu konjektürlerin doğruluğunu veya yanlışlığını matematiksel ispat yoluyla çözmeye çalışırlar. Matematiksel yapılar gerçek fenomenleri iyi modelize ettiklerinde matematiksel düşünce doğa hakkında tahmin yürütmemizi ve onun iç yüzünü anlamamızı sağlayabilir. Matematik soyutlama ve mantığı kullanarak ve sistemli çalışmayla fiziksel objelerin şekillerini ve hareketlerini saymayı, hesaplamayı ve ölçmeyi mümkün kılar ve böylece gelişir. Pratik matematik yazılı kayıtlardan beri insan etkinliği olagelmiştir. Matematik problemlerinin çözümü için gerekli araştırma yıllarca hatta yüzyıllarca süren bir çaba gerektirebilir.\\n\\nİlk titiz kayıtlara Yunan matematiğinde rastlanır. (Özellikle Öklid'in Elementler kitabında) Giuseppe Peano (1858-1932), David Hilbert (1862-1943) ve diğerlerinin geç 19 yüzyılda belitsel sistemler üzerine kurdukları çalışmalarından beri matematiksel araştırmada doğruyu kurmanın geleneği değişti. (Artık uygun olarak seçilen aksiyom ve tanımlardan titiz bir şekilde tümdengelim yapılmaktadır.) Matematik Rönesans'a kadar görece yavaş gelişti. Sonra matematikteki yenilikler diğer yeni bilimsel keșiflerle etkileșerek matematiksel keșiflerde günümüzde hala devam eden hızlı bir artış sağladı.\""
      ]
     },
     "execution_count": 54,
     "metadata": {},
     "output_type": "execute_result"
    }
   ],
   "source": [
    "text = \"\"\"Matematikçiler örüntüleri araştırır ve bunları yeni konjektürler formüle etmekte kullanırlar. Bu konjektürlerin doğruluğunu veya yanlışlığını matematiksel ispat yoluyla çözmeye çalışırlar. Matematiksel yapılar gerçek fenomenleri iyi modelize ettiklerinde matematiksel düşünce doğa hakkında tahmin yürütmemizi ve onun iç yüzünü anlamamızı sağlayabilir. Matematik soyutlama ve mantığı kullanarak ve sistemli çalışmayla fiziksel objelerin şekillerini ve hareketlerini saymayı, hesaplamayı ve ölçmeyi mümkün kılar ve böylece gelişir. Pratik matematik yazılı kayıtlardan beri insan etkinliği olagelmiştir. Matematik problemlerinin çözümü için gerekli araştırma yıllarca hatta yüzyıllarca süren bir çaba gerektirebilir.\n",
    "\n",
    "İlk titiz kayıtlara Yunan matematiğinde rastlanır. (Özellikle Öklid'in Elementler kitabında) Giuseppe Peano (1858-1932), David Hilbert (1862-1943) ve diğerlerinin geç 19 yüzyılda belitsel sistemler üzerine kurdukları çalışmalarından beri matematiksel araştırmada doğruyu kurmanın geleneği değişti. (Artık uygun olarak seçilen aksiyom ve tanımlardan titiz bir şekilde tümdengelim yapılmaktadır.) Matematik Rönesans'a kadar görece yavaş gelişti. Sonra matematikteki yenilikler diğer yeni bilimsel keșiflerle etkileșerek matematiksel keșiflerde günümüzde hala devam eden hızlı bir artış sağladı.\"\"\"\n",
    "text"
   ]
  },
  {
   "cell_type": "code",
   "execution_count": 55,
   "metadata": {
    "collapsed": true
   },
   "outputs": [
    {
     "data": {
      "text/plain": [
       "['Matematikçiler',\n",
       " 'örüntüleri',\n",
       " 'araştırır',\n",
       " 've',\n",
       " 'bunları',\n",
       " 'yeni',\n",
       " 'konjektürler',\n",
       " 'formüle',\n",
       " 'etmekte',\n",
       " 'kullanırlar.',\n",
       " 'Bu',\n",
       " 'konjektürlerin',\n",
       " 'doğruluğunu',\n",
       " 'veya',\n",
       " 'yanlışlığını',\n",
       " 'matematiksel',\n",
       " 'ispat',\n",
       " 'yoluyla',\n",
       " 'çözmeye',\n",
       " 'çalışırlar.',\n",
       " 'Matematiksel',\n",
       " 'yapılar',\n",
       " 'gerçek',\n",
       " 'fenomenleri',\n",
       " 'iyi',\n",
       " 'modelize',\n",
       " 'ettiklerinde',\n",
       " 'matematiksel',\n",
       " 'düşünce',\n",
       " 'doğa',\n",
       " 'hakkında',\n",
       " 'tahmin',\n",
       " 'yürütmemizi',\n",
       " 've',\n",
       " 'onun',\n",
       " 'iç',\n",
       " 'yüzünü',\n",
       " 'anlamamızı',\n",
       " 'sağlayabilir.',\n",
       " 'Matematik',\n",
       " 'soyutlama',\n",
       " 've',\n",
       " 'mantığı',\n",
       " 'kullanarak',\n",
       " 've',\n",
       " 'sistemli',\n",
       " 'çalışmayla',\n",
       " 'fiziksel',\n",
       " 'objelerin',\n",
       " 'şekillerini',\n",
       " 've',\n",
       " 'hareketlerini',\n",
       " 'saymayı,',\n",
       " 'hesaplamayı',\n",
       " 've',\n",
       " 'ölçmeyi',\n",
       " 'mümkün',\n",
       " 'kılar',\n",
       " 've',\n",
       " 'böylece',\n",
       " 'gelişir.',\n",
       " 'Pratik',\n",
       " 'matematik',\n",
       " 'yazılı',\n",
       " 'kayıtlardan',\n",
       " 'beri',\n",
       " 'insan',\n",
       " 'etkinliği',\n",
       " 'olagelmiştir.',\n",
       " 'Matematik',\n",
       " 'problemlerinin',\n",
       " 'çözümü',\n",
       " 'için',\n",
       " 'gerekli',\n",
       " 'araştırma',\n",
       " 'yıllarca',\n",
       " 'hatta',\n",
       " 'yüzyıllarca',\n",
       " 'süren',\n",
       " 'bir',\n",
       " 'çaba',\n",
       " 'gerektirebilir.\\n\\nİlk',\n",
       " 'titiz',\n",
       " 'kayıtlara',\n",
       " 'Yunan',\n",
       " 'matematiğinde',\n",
       " 'rastlanır.',\n",
       " '(Özellikle',\n",
       " \"Öklid'in\",\n",
       " 'Elementler',\n",
       " 'kitabında)',\n",
       " 'Giuseppe',\n",
       " 'Peano',\n",
       " '(1858-1932),',\n",
       " 'David',\n",
       " 'Hilbert',\n",
       " '(1862-1943)',\n",
       " 've',\n",
       " 'diğerlerinin',\n",
       " 'geç',\n",
       " '19',\n",
       " 'yüzyılda',\n",
       " 'belitsel',\n",
       " 'sistemler',\n",
       " 'üzerine',\n",
       " 'kurdukları',\n",
       " 'çalışmalarından',\n",
       " 'beri',\n",
       " 'matematiksel',\n",
       " 'araştırmada',\n",
       " 'doğruyu',\n",
       " 'kurmanın',\n",
       " 'geleneği',\n",
       " 'değişti.',\n",
       " '(Artık',\n",
       " 'uygun',\n",
       " 'olarak',\n",
       " 'seçilen',\n",
       " 'aksiyom',\n",
       " 've',\n",
       " 'tanımlardan',\n",
       " 'titiz',\n",
       " 'bir',\n",
       " 'şekilde',\n",
       " 'tümdengelim',\n",
       " 'yapılmaktadır.)',\n",
       " 'Matematik',\n",
       " \"Rönesans'a\",\n",
       " 'kadar',\n",
       " 'görece',\n",
       " 'yavaş',\n",
       " 'gelişti.',\n",
       " 'Sonra',\n",
       " 'matematikteki',\n",
       " 'yenilikler',\n",
       " 'diğer',\n",
       " 'yeni',\n",
       " 'bilimsel',\n",
       " 'keșiflerle',\n",
       " 'etkileșerek',\n",
       " 'matematiksel',\n",
       " 'keșiflerde',\n",
       " 'günümüzde',\n",
       " 'hala',\n",
       " 'devam',\n",
       " 'eden',\n",
       " 'hızlı',\n",
       " 'bir',\n",
       " 'artış',\n",
       " 'sağladı.']"
      ]
     },
     "execution_count": 55,
     "metadata": {},
     "output_type": "execute_result"
    }
   ],
   "source": [
    "text.split(' ')"
   ]
  },
  {
   "cell_type": "code",
   "execution_count": 57,
   "metadata": {
    "collapsed": true
   },
   "outputs": [
    {
     "data": {
      "text/plain": [
       "\"MATEMATIKÇILER ÖRÜNTÜLERI ARAŞTIRIR VE BUNLARI YENI KONJEKTÜRLER FORMÜLE ETMEKTE KULLANIRLAR. BU KONJEKTÜRLERIN DOĞRULUĞUNU VEYA YANLIŞLIĞINI MATEMATIKSEL ISPAT YOLUYLA ÇÖZMEYE ÇALIŞIRLAR. MATEMATIKSEL YAPILAR GERÇEK FENOMENLERI IYI MODELIZE ETTIKLERINDE MATEMATIKSEL DÜŞÜNCE DOĞA HAKKINDA TAHMIN YÜRÜTMEMIZI VE ONUN IÇ YÜZÜNÜ ANLAMAMIZI SAĞLAYABILIR. MATEMATIK SOYUTLAMA VE MANTIĞI KULLANARAK VE SISTEMLI ÇALIŞMAYLA FIZIKSEL OBJELERIN ŞEKILLERINI VE HAREKETLERINI SAYMAYI, HESAPLAMAYI VE ÖLÇMEYI MÜMKÜN KILAR VE BÖYLECE GELIŞIR. PRATIK MATEMATIK YAZILI KAYITLARDAN BERI INSAN ETKINLIĞI OLAGELMIŞTIR. MATEMATIK PROBLEMLERININ ÇÖZÜMÜ IÇIN GEREKLI ARAŞTIRMA YILLARCA HATTA YÜZYILLARCA SÜREN BIR ÇABA GEREKTIREBILIR.\\n\\nİLK TITIZ KAYITLARA YUNAN MATEMATIĞINDE RASTLANIR. (ÖZELLIKLE ÖKLID'IN ELEMENTLER KITABINDA) GIUSEPPE PEANO (1858-1932), DAVID HILBERT (1862-1943) VE DIĞERLERININ GEÇ 19 YÜZYILDA BELITSEL SISTEMLER ÜZERINE KURDUKLARI ÇALIŞMALARINDAN BERI MATEMATIKSEL ARAŞTIRMADA DOĞRUYU KURMANIN GELENEĞI DEĞIŞTI. (ARTIK UYGUN OLARAK SEÇILEN AKSIYOM VE TANIMLARDAN TITIZ BIR ŞEKILDE TÜMDENGELIM YAPILMAKTADIR.) MATEMATIK RÖNESANS'A KADAR GÖRECE YAVAŞ GELIŞTI. SONRA MATEMATIKTEKI YENILIKLER DIĞER YENI BILIMSEL KEȘIFLERLE ETKILEȘEREK MATEMATIKSEL KEȘIFLERDE GÜNÜMÜZDE HALA DEVAM EDEN HIZLI BIR ARTIŞ SAĞLADI.\""
      ]
     },
     "execution_count": 57,
     "metadata": {},
     "output_type": "execute_result"
    }
   ],
   "source": [
    "text.upper()"
   ]
  },
  {
   "cell_type": "code",
   "execution_count": 58,
   "metadata": {
    "collapsed": true
   },
   "outputs": [
    {
     "data": {
      "text/plain": [
       "\"matematikçiler örüntüleri araştırır ve bunları yeni konjektürler formüle etmekte kullanırlar. bu konjektürlerin doğruluğunu veya yanlışlığını matematiksel ispat yoluyla çözmeye çalışırlar. matematiksel yapılar gerçek fenomenleri iyi modelize ettiklerinde matematiksel düşünce doğa hakkında tahmin yürütmemizi ve onun iç yüzünü anlamamızı sağlayabilir. matematik soyutlama ve mantığı kullanarak ve sistemli çalışmayla fiziksel objelerin şekillerini ve hareketlerini saymayı, hesaplamayı ve ölçmeyi mümkün kılar ve böylece gelişir. pratik matematik yazılı kayıtlardan beri insan etkinliği olagelmiştir. matematik problemlerinin çözümü için gerekli araştırma yıllarca hatta yüzyıllarca süren bir çaba gerektirebilir.\\n\\ni̇lk titiz kayıtlara yunan matematiğinde rastlanır. (özellikle öklid'in elementler kitabında) giuseppe peano (1858-1932), david hilbert (1862-1943) ve diğerlerinin geç 19 yüzyılda belitsel sistemler üzerine kurdukları çalışmalarından beri matematiksel araştırmada doğruyu kurmanın geleneği değişti. (artık uygun olarak seçilen aksiyom ve tanımlardan titiz bir şekilde tümdengelim yapılmaktadır.) matematik rönesans'a kadar görece yavaş gelişti. sonra matematikteki yenilikler diğer yeni bilimsel keșiflerle etkileșerek matematiksel keșiflerde günümüzde hala devam eden hızlı bir artış sağladı.\""
      ]
     },
     "execution_count": 58,
     "metadata": {},
     "output_type": "execute_result"
    }
   ],
   "source": [
    "text.lower()"
   ]
  },
  {
   "cell_type": "code",
   "execution_count": 59,
   "metadata": {
    "collapsed": true
   },
   "outputs": [
    {
     "data": {
      "text/plain": [
       "\"Matematikçiler Örüntüleri Araştırır Ve Bunları Yeni Konjektürler Formüle Etmekte Kullanırlar. Bu Konjektürlerin Doğruluğunu Veya Yanlışlığını Matematiksel Ispat Yoluyla Çözmeye Çalışırlar. Matematiksel Yapılar Gerçek Fenomenleri Iyi Modelize Ettiklerinde Matematiksel Düşünce Doğa Hakkında Tahmin Yürütmemizi Ve Onun Iç Yüzünü Anlamamızı Sağlayabilir. Matematik Soyutlama Ve Mantığı Kullanarak Ve Sistemli Çalışmayla Fiziksel Objelerin Şekillerini Ve Hareketlerini Saymayı, Hesaplamayı Ve Ölçmeyi Mümkün Kılar Ve Böylece Gelişir. Pratik Matematik Yazılı Kayıtlardan Beri Insan Etkinliği Olagelmiştir. Matematik Problemlerinin Çözümü Için Gerekli Araştırma Yıllarca Hatta Yüzyıllarca Süren Bir Çaba Gerektirebilir.\\n\\nİlk Titiz Kayıtlara Yunan Matematiğinde Rastlanır. (Özellikle Öklid'In Elementler Kitabında) Giuseppe Peano (1858-1932), David Hilbert (1862-1943) Ve Diğerlerinin Geç 19 Yüzyılda Belitsel Sistemler Üzerine Kurdukları Çalışmalarından Beri Matematiksel Araştırmada Doğruyu Kurmanın Geleneği Değişti. (Artık Uygun Olarak Seçilen Aksiyom Ve Tanımlardan Titiz Bir Şekilde Tümdengelim Yapılmaktadır.) Matematik Rönesans'A Kadar Görece Yavaş Gelişti. Sonra Matematikteki Yenilikler Diğer Yeni Bilimsel Keșiflerle Etkileșerek Matematiksel Keșiflerde Günümüzde Hala Devam Eden Hızlı Bir Artış Sağladı.\""
      ]
     },
     "execution_count": 59,
     "metadata": {},
     "output_type": "execute_result"
    }
   ],
   "source": [
    "text.title()"
   ]
  },
  {
   "cell_type": "code",
   "execution_count": 60,
   "metadata": {
    "collapsed": true
   },
   "outputs": [
    {
     "data": {
      "text/plain": [
       "\"Matematikçiler örüntüleri araştırır ve bunları yeni konjektürler formüle etmekte kullanırlar. bu konjektürlerin doğruluğunu veya yanlışlığını matematiksel ispat yoluyla çözmeye çalışırlar. matematiksel yapılar gerçek fenomenleri iyi modelize ettiklerinde matematiksel düşünce doğa hakkında tahmin yürütmemizi ve onun iç yüzünü anlamamızı sağlayabilir. matematik soyutlama ve mantığı kullanarak ve sistemli çalışmayla fiziksel objelerin şekillerini ve hareketlerini saymayı, hesaplamayı ve ölçmeyi mümkün kılar ve böylece gelişir. pratik matematik yazılı kayıtlardan beri insan etkinliği olagelmiştir. matematik problemlerinin çözümü için gerekli araştırma yıllarca hatta yüzyıllarca süren bir çaba gerektirebilir.\\n\\ni̇lk titiz kayıtlara yunan matematiğinde rastlanır. (özellikle öklid'in elementler kitabında) giuseppe peano (1858-1932), david hilbert (1862-1943) ve diğerlerinin geç 19 yüzyılda belitsel sistemler üzerine kurdukları çalışmalarından beri matematiksel araştırmada doğruyu kurmanın geleneği değişti. (artık uygun olarak seçilen aksiyom ve tanımlardan titiz bir şekilde tümdengelim yapılmaktadır.) matematik rönesans'a kadar görece yavaş gelişti. sonra matematikteki yenilikler diğer yeni bilimsel keșiflerle etkileșerek matematiksel keșiflerde günümüzde hala devam eden hızlı bir artış sağladı.\""
      ]
     },
     "execution_count": 60,
     "metadata": {},
     "output_type": "execute_result"
    }
   ],
   "source": [
    "text.capitalize()"
   ]
  },
  {
   "cell_type": "code",
   "execution_count": 61,
   "metadata": {
    "collapsed": true
   },
   "outputs": [
    {
     "data": {
      "text/plain": [
       "\"mATEMATIKÇILER ÖRÜNTÜLERI ARAŞTIRIR VE BUNLARI YENI KONJEKTÜRLER FORMÜLE ETMEKTE KULLANIRLAR. bU KONJEKTÜRLERIN DOĞRULUĞUNU VEYA YANLIŞLIĞINI MATEMATIKSEL ISPAT YOLUYLA ÇÖZMEYE ÇALIŞIRLAR. mATEMATIKSEL YAPILAR GERÇEK FENOMENLERI IYI MODELIZE ETTIKLERINDE MATEMATIKSEL DÜŞÜNCE DOĞA HAKKINDA TAHMIN YÜRÜTMEMIZI VE ONUN IÇ YÜZÜNÜ ANLAMAMIZI SAĞLAYABILIR. mATEMATIK SOYUTLAMA VE MANTIĞI KULLANARAK VE SISTEMLI ÇALIŞMAYLA FIZIKSEL OBJELERIN ŞEKILLERINI VE HAREKETLERINI SAYMAYI, HESAPLAMAYI VE ÖLÇMEYI MÜMKÜN KILAR VE BÖYLECE GELIŞIR. pRATIK MATEMATIK YAZILI KAYITLARDAN BERI INSAN ETKINLIĞI OLAGELMIŞTIR. mATEMATIK PROBLEMLERININ ÇÖZÜMÜ IÇIN GEREKLI ARAŞTIRMA YILLARCA HATTA YÜZYILLARCA SÜREN BIR ÇABA GEREKTIREBILIR.\\n\\ni̇LK TITIZ KAYITLARA yUNAN MATEMATIĞINDE RASTLANIR. (öZELLIKLE öKLID'IN eLEMENTLER KITABINDA) gIUSEPPE pEANO (1858-1932), dAVID hILBERT (1862-1943) VE DIĞERLERININ GEÇ 19 YÜZYILDA BELITSEL SISTEMLER ÜZERINE KURDUKLARI ÇALIŞMALARINDAN BERI MATEMATIKSEL ARAŞTIRMADA DOĞRUYU KURMANIN GELENEĞI DEĞIŞTI. (aRTIK UYGUN OLARAK SEÇILEN AKSIYOM VE TANIMLARDAN TITIZ BIR ŞEKILDE TÜMDENGELIM YAPILMAKTADIR.) mATEMATIK rÖNESANS'A KADAR GÖRECE YAVAŞ GELIŞTI. sONRA MATEMATIKTEKI YENILIKLER DIĞER YENI BILIMSEL KEȘIFLERLE ETKILEȘEREK MATEMATIKSEL KEȘIFLERDE GÜNÜMÜZDE HALA DEVAM EDEN HIZLI BIR ARTIŞ SAĞLADI.\""
      ]
     },
     "execution_count": 61,
     "metadata": {},
     "output_type": "execute_result"
    }
   ],
   "source": [
    "text.swapcase() # shift + tab to see definition of in-built function"
   ]
  },
  {
   "cell_type": "code",
   "execution_count": 62,
   "metadata": {},
   "outputs": [
    {
     "data": {
      "text/plain": [
       "<reversed at 0x285da1d0948>"
      ]
     },
     "execution_count": 62,
     "metadata": {},
     "output_type": "execute_result"
    }
   ],
   "source": [
    "reversed(text)"
   ]
  },
  {
   "cell_type": "code",
   "execution_count": 63,
   "metadata": {
    "collapsed": true
   },
   "outputs": [
    {
     "data": {
      "text/plain": [
       "\".ıdalğas şıtra rib ılzıh nede maved alah edzümünüg edrelfișek leskitametam kereșelikte elrelfișek lesmilib iney reğid relkiliney iketkitametam arnoS .itşileg şavay ecerög radak a'snasenöR kitametaM ).rıdatkamlıpay milegnedmüt edlikeş rib zitit nadralmınat ev moyiska neliçes karalo nugyu kıtrA( .itşiğed iğeneleg nınamruk uyurğod adamrıtşara leskitametam ireb nadnıralamşılaç ıralkudruk enirezü relmetsis lestileb adlıyzüy 91 çeg ninirelreğid ev )3491-2681( trebliH divaD ,)2391-8581( onaeP eppesuiG )adnıbatik reltnemelE ni'dilkÖ elkillezÖ( .rınaltsar edniğitametam nanuY araltıyak zitit klİ\\n\\n.riliberitkereg abaç rib nerüs acrallıyzüy attah acrallıy amrıtşara ilkereg niçi ümüzöç ninirelmelborp kitametaM .ritşimlegalo iğilnikte nasni ireb nadraltıyak ılızay kitametam kitarP .rişileg ecelyöb ev ralık nükmüm iyemçlö ev ıyamalpaseh ,ıyamyas inireltekerah ev inirellikeş nirelejbo leskizif alyamşılaç ilmetsis ev karanalluk ığıtnam ev amaltuyos kitametaM .rilibayalğas ızımamalna ünüzüy çi nuno ev izimemtürüy nimhat adnıkkah ağod ecnüşüd leskitametam ednirelkitte eziledom iyi irelnemonef keçreg ralıpay leskitametaM .ralrışılaç eyemzöç alyuloy tapsi leskitametam ınığılşılnay ayev unuğulurğod nirelrütkejnok uB .ralrınalluk etkemte elümrof relrütkejnok iney ıralnub ev rırıtşara irelütnürö reliçkitametaM\""
      ]
     },
     "execution_count": 63,
     "metadata": {},
     "output_type": "execute_result"
    }
   ],
   "source": [
    "''.join(reversed(text))"
   ]
  },
  {
   "cell_type": "code",
   "execution_count": 64,
   "metadata": {},
   "outputs": [],
   "source": [
    "text = '   merve '"
   ]
  },
  {
   "cell_type": "code",
   "execution_count": 65,
   "metadata": {},
   "outputs": [
    {
     "data": {
      "text/plain": [
       "'merve'"
      ]
     },
     "execution_count": 65,
     "metadata": {},
     "output_type": "execute_result"
    }
   ],
   "source": [
    "text.strip()"
   ]
  },
  {
   "cell_type": "code",
   "execution_count": 66,
   "metadata": {},
   "outputs": [
    {
     "data": {
      "text/plain": [
       "'   merve'"
      ]
     },
     "execution_count": 66,
     "metadata": {},
     "output_type": "execute_result"
    }
   ],
   "source": [
    "text.rstrip()"
   ]
  },
  {
   "cell_type": "code",
   "execution_count": 67,
   "metadata": {},
   "outputs": [
    {
     "data": {
      "text/plain": [
       "'merve '"
      ]
     },
     "execution_count": 67,
     "metadata": {},
     "output_type": "execute_result"
    }
   ],
   "source": [
    "text.lstrip()"
   ]
  },
  {
   "cell_type": "code",
   "execution_count": 74,
   "metadata": {},
   "outputs": [
    {
     "data": {
      "text/plain": [
       "False"
      ]
     },
     "execution_count": 74,
     "metadata": {},
     "output_type": "execute_result"
    }
   ],
   "source": [
    "'merve123'.isdigit()"
   ]
  },
  {
   "cell_type": "code",
   "execution_count": 75,
   "metadata": {},
   "outputs": [
    {
     "data": {
      "text/plain": [
       "False"
      ]
     },
     "execution_count": 75,
     "metadata": {},
     "output_type": "execute_result"
    }
   ],
   "source": [
    "'merve123'.isnumeric()"
   ]
  },
  {
   "cell_type": "code",
   "execution_count": 77,
   "metadata": {},
   "outputs": [
    {
     "data": {
      "text/plain": [
       "False"
      ]
     },
     "execution_count": 77,
     "metadata": {},
     "output_type": "execute_result"
    }
   ],
   "source": [
    "'merve12 '.isalnum() # because there is a space it is not alpha or num"
   ]
  },
  {
   "cell_type": "code",
   "execution_count": 78,
   "metadata": {},
   "outputs": [
    {
     "data": {
      "text/plain": [
       "True"
      ]
     },
     "execution_count": 78,
     "metadata": {},
     "output_type": "execute_result"
    }
   ],
   "source": [
    "'   '.isspace()"
   ]
  },
  {
   "cell_type": "code",
   "execution_count": 81,
   "metadata": {},
   "outputs": [
    {
     "data": {
      "text/plain": [
       "'*******Merve********'"
      ]
     },
     "execution_count": 81,
     "metadata": {},
     "output_type": "execute_result"
    }
   ],
   "source": [
    "'Merve'.center(20,'*')"
   ]
  },
  {
   "cell_type": "code",
   "execution_count": 82,
   "metadata": {},
   "outputs": [
    {
     "ename": "SyntaxError",
     "evalue": "invalid syntax (<ipython-input-82-79b25473ab88>, line 1)",
     "output_type": "error",
     "traceback": [
      "\u001b[1;36m  File \u001b[1;32m\"<ipython-input-82-79b25473ab88>\"\u001b[1;36m, line \u001b[1;32m1\u001b[0m\n\u001b[1;33m    Tasks :\u001b[0m\n\u001b[1;37m           ^\u001b[0m\n\u001b[1;31mSyntaxError\u001b[0m\u001b[1;31m:\u001b[0m invalid syntax\n"
     ]
    }
   ],
   "source": [
    "Tasks :\n",
    "\n",
    "    "
   ]
  }
 ],
 "metadata": {
  "kernelspec": {
   "display_name": "Python 3",
   "language": "python",
   "name": "python3"
  },
  "language_info": {
   "codemirror_mode": {
    "name": "ipython",
    "version": 3
   },
   "file_extension": ".py",
   "mimetype": "text/x-python",
   "name": "python",
   "nbconvert_exporter": "python",
   "pygments_lexer": "ipython3",
   "version": "3.7.6"
  }
 },
 "nbformat": 4,
 "nbformat_minor": 4
}
