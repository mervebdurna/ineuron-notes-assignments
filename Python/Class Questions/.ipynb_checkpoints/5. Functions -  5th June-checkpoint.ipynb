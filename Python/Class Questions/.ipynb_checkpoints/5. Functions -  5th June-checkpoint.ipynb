{
 "cells": [
  {
   "cell_type": "markdown",
   "metadata": {},
   "source": [
    "# Questions"
   ]
  },
  {
   "cell_type": "code",
   "execution_count": null,
   "metadata": {},
   "outputs": [],
   "source": [
    "#Today Tasks :\n",
    "\n",
    "#shivan@ineuron.ai sudanshu@ineuronuron.ai\n",
    "\n",
    "# q1 : Try to print a prime number in between 1 to 10000    \n",
    "# \n",
    "# q2 : Try to write a function which is equivilant to print function in python\n",
    "# \n",
    "# q3 : Try write a function which is replica of list append, extend and pop function\n",
    "# \n",
    "# q4 : Try to write a lambda functiontion which can return a concatination of all the string that we will pass  \n",
    "# \n",
    "# q5 : Try to write lambda function which can return list of square of all the data between 1-1000\n",
    "# \n",
    "# q6 : Try to write 10 different lambda function example\n",
    "# \n",
    "# q7 : Try to write a function which can perform a read operation from .txt "
   ]
  },
  {
   "cell_type": "code",
   "execution_count": null,
   "metadata": {},
   "outputs": [],
   "source": [
    "# q1 : \n",
    "def find_prime_numbers(n):\n",
    "    prime_list = []\n",
    "    for i in range(1,n+1):\n",
    "        isPrime = True\n",
    "        for j in range(2,n-1):\n",
    "            if i != j and i % j == 0 :\n",
    "                isPrime = False\n",
    "                break\n",
    "        if isPrime == True :\n",
    "            prime_list.append(i)\n",
    "    return prime_list\n",
    "        \n",
    "find_prime_numbers(1000) "
   ]
  },
  {
   "cell_type": "code",
   "execution_count": null,
   "metadata": {},
   "outputs": [],
   "source": [
    "# q2 :\n",
    "import sys\n",
    "def my_print(*args):\n",
    "    for i in args:\n",
    "        sys.stdout.write(str(i))\n",
    "    \n",
    "my_print('Merve',5,6,8)"
   ]
  },
  {
   "cell_type": "code",
   "execution_count": null,
   "metadata": {},
   "outputs": [],
   "source": [
    "# q3 : \n",
    "def my_append(lst,item):\n",
    "    return lst + [item] \n",
    "\n",
    "my_append([1,2,3],4)"
   ]
  },
  {
   "cell_type": "code",
   "execution_count": null,
   "metadata": {},
   "outputs": [],
   "source": [
    "def my_pop(lst,index):\n",
    "    return lst[:index] + lst[index+1:]\n",
    "\n",
    "my_pop([0,1,2,3,4,5],3)"
   ]
  },
  {
   "cell_type": "code",
   "execution_count": null,
   "metadata": {},
   "outputs": [],
   "source": [
    "def my_extend(lst,iterable):\n",
    "    return lst+list(iterable)\n",
    "\n",
    "my_extend([1,2,3],(7,8))"
   ]
  },
  {
   "cell_type": "code",
   "execution_count": null,
   "metadata": {},
   "outputs": [],
   "source": [
    "my_extend([1,2,3],{4})"
   ]
  },
  {
   "cell_type": "code",
   "execution_count": null,
   "metadata": {},
   "outputs": [],
   "source": [
    "my_append([1,2,3],{4})"
   ]
  },
  {
   "cell_type": "code",
   "execution_count": null,
   "metadata": {},
   "outputs": [],
   "source": [
    "# q4 :it can just work with string parameters\n",
    "\n",
    "x = lambda *kwargs : [''.join(kwargs)]\n",
    "x('merve','2','3')"
   ]
  },
  {
   "cell_type": "code",
   "execution_count": null,
   "metadata": {},
   "outputs": [],
   "source": [
    "# q4: it can works with int as well\n",
    "\n",
    "x = lambda *kwargs : ''.join(str(i) for i in kwargs)\n",
    "x('merve',2,'3')"
   ]
  },
  {
   "cell_type": "code",
   "execution_count": null,
   "metadata": {},
   "outputs": [],
   "source": [
    "# q5 :\n",
    "\n",
    "y = lambda n : [ i ** 2 for i in range(1,n+1)]\n",
    "\n",
    "y(1000)"
   ]
  },
  {
   "cell_type": "code",
   "execution_count": null,
   "metadata": {},
   "outputs": [],
   "source": [
    "# q6 : 10 lambda functions\n",
    "\n",
    "#1 \n",
    "x1 = lambda text : str(text).replace('a','A')\n",
    "x1()\n",
    "\n"
   ]
  },
  {
   "cell_type": "code",
   "execution_count": null,
   "metadata": {},
   "outputs": [],
   "source": []
  },
  {
   "cell_type": "code",
   "execution_count": null,
   "metadata": {},
   "outputs": [],
   "source": []
  },
  {
   "cell_type": "code",
   "execution_count": null,
   "metadata": {},
   "outputs": [],
   "source": []
  },
  {
   "cell_type": "code",
   "execution_count": null,
   "metadata": {},
   "outputs": [],
   "source": []
  },
  {
   "cell_type": "code",
   "execution_count": null,
   "metadata": {},
   "outputs": [],
   "source": [
    "#q7 : "
   ]
  },
  {
   "cell_type": "code",
   "execution_count": null,
   "metadata": {},
   "outputs": [],
   "source": []
  },
  {
   "cell_type": "code",
   "execution_count": null,
   "metadata": {},
   "outputs": [],
   "source": []
  }
 ],
 "metadata": {
  "kernelspec": {
   "display_name": "Python 3",
   "language": "python",
   "name": "python3"
  },
  "language_info": {
   "codemirror_mode": {
    "name": "ipython",
    "version": 3
   },
   "file_extension": ".py",
   "mimetype": "text/x-python",
   "name": "python",
   "nbconvert_exporter": "python",
   "pygments_lexer": "ipython3",
   "version": "3.7.6"
  }
 },
 "nbformat": 4,
 "nbformat_minor": 4
}
