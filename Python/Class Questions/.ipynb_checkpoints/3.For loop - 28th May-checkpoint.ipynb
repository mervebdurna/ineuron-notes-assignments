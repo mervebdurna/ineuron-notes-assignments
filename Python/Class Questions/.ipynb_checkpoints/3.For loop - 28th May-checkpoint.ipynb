{
 "cells": [
  {
   "cell_type": "code",
   "execution_count": 3,
   "metadata": {},
   "outputs": [],
   "source": [
    "# Questions\n",
    "\n",
    "#Q1 :print \n",
    "#ineuron \n",
    "#ineuron ineuron\n",
    "#ineuron ineuron ineuron\n",
    "#ineuron ineuron ineuron ineuron\n",
    "\n",
    "#Q2: print\n",
    "#              ineuron\n",
    "#       ineuron       ineuron\n",
    "#ineuron       ineuron       ineuron\n",
    "#       ineuron       ineuron\n",
    "#              ineuron       \n",
    "\n",
    "#l= [[1,2,3,4],(5,6,7,8),(3,4,5,6,7,3,4,5,3), set([1,2,3,4,5,32,46,3,4,6]),{'key1':'sudh','k2':'ineuron','k3':'kumar',3:6,7:8},['ineuron','datascience']]\n",
    "\n",
    "#Q3 :  try to extract all the list entity\n",
    "\n",
    "#Q4: try to extract all the dict entities\n",
    "\n",
    "#Q5 : try to extract all the tuple entities\n",
    "\n",
    "#Q6 : try to extract all the numerical data it may be part of dict key or value\n",
    "\n",
    "#Q7 : try to give sum of all the numeric data\n",
    "\n",
    "#Q8 :try to filter all the odd values out of all numeric values\n",
    "\n",
    "#Q :try to extract \"ineuron\" out of this data\n",
    "\n",
    "#Q10 : try to extract all numbers occurances in the data\n",
    "\n",
    "#Q11 : try to find out number of keys in dict element\n",
    "\n",
    "#Q12 : try to filter out all the string data\n",
    "\n",
    "#Q13 : try to find out alphanum in data\n",
    "\n",
    "#Q14 : try to find out multiplication of all the individual collection inside datasset \n",
    "\n",
    "#Q15: try to unwrange al the collection inside collection and create a flat list\n"
   ]
  },
  {
   "cell_type": "code",
   "execution_count": 4,
   "metadata": {},
   "outputs": [],
   "source": [
    "#Q3 :  try to extract all the list entity\n",
    "l= [[1,2,3,4],(5,6,7,8),(3,4,5,6,7,3,4,5,3), set([1,2,3,4,5,32,46,3,4,6]),{'key1':'sudh','k2':'ineuron','k3':'kumar',3:6,7:8},['ineuron','datascience']]"
   ]
  },
  {
   "cell_type": "code",
   "execution_count": 5,
   "metadata": {},
   "outputs": [
    {
     "name": "stdout",
     "output_type": "stream",
     "text": [
      "[1, 2, 3, 4]\n",
      "['ineuron', 'datascience']\n"
     ]
    }
   ],
   "source": [
    "for i in l :\n",
    "    if type(i) == list :\n",
    "        print(i) "
   ]
  },
  {
   "cell_type": "code",
   "execution_count": 6,
   "metadata": {},
   "outputs": [
    {
     "name": "stdout",
     "output_type": "stream",
     "text": [
      "{'key1': 'sudh', 'k2': 'ineuron', 'k3': 'kumar', 3: 6, 7: 8}\n"
     ]
    }
   ],
   "source": [
    "#Q4: try to extract all the dict entities\n",
    "for i in l :\n",
    "    if type(i) == dict :\n",
    "        print(i) "
   ]
  },
  {
   "cell_type": "code",
   "execution_count": 7,
   "metadata": {},
   "outputs": [
    {
     "name": "stdout",
     "output_type": "stream",
     "text": [
      "(5, 6, 7, 8)\n",
      "(3, 4, 5, 6, 7, 3, 4, 5, 3)\n"
     ]
    }
   ],
   "source": [
    "#Q5 : try to extract all the tuple entities\n",
    "for i in l :\n",
    "    if type(i) == tuple :\n",
    "        print(i) "
   ]
  },
  {
   "cell_type": "code",
   "execution_count": 8,
   "metadata": {},
   "outputs": [
    {
     "name": "stdout",
     "output_type": "stream",
     "text": [
      "[1, 2, 3, 4, 5, 6, 7, 8, 3, 4, 5, 6, 7, 3, 4, 5, 3, 32, 1, 2, 3, 4, 5, 6, 46, 3, 6, 7, 8]\n"
     ]
    }
   ],
   "source": [
    "#Q6 : try to extract all the numerical data it may be part of dict key or value\n",
    "num = []\n",
    "for i in l:\n",
    "    if type(i) == int:\n",
    "        num.append(i)\n",
    "    elif type(i) in [list,set,tuple]:\n",
    "        for j in i:\n",
    "            if type(j) == int :\n",
    "                num.append(j)\n",
    "    elif type(i) is dict:\n",
    "        for k,v in i .items():\n",
    "            if type(k) == int:\n",
    "                num.append(k)\n",
    "            if type(v) == int :\n",
    "                num.append(v)\n",
    "\n",
    "print(num)\n",
    "      "
   ]
  },
  {
   "cell_type": "code",
   "execution_count": 9,
   "metadata": {},
   "outputs": [
    {
     "data": {
      "text/plain": [
       "199"
      ]
     },
     "execution_count": 9,
     "metadata": {},
     "output_type": "execute_result"
    }
   ],
   "source": [
    "#Q7 : try to give sum of all the numeric data\n",
    "sum(num)"
   ]
  },
  {
   "cell_type": "code",
   "execution_count": 10,
   "metadata": {},
   "outputs": [
    {
     "data": {
      "text/plain": [
       "[1, 3, 5, 7, 3, 5, 7, 3, 5, 3, 1, 3, 5, 3, 7]"
      ]
     },
     "execution_count": 10,
     "metadata": {},
     "output_type": "execute_result"
    }
   ],
   "source": [
    "#Q8 :try to filter all the odd values out of all numeric values\n",
    "odd_num = []\n",
    "for i in num :\n",
    "    if i%2 != 0: \n",
    "        odd_num.append(i)\n",
    "    \n",
    "odd_num\n",
    "        "
   ]
  },
  {
   "cell_type": "code",
   "execution_count": 11,
   "metadata": {},
   "outputs": [
    {
     "data": {
      "text/plain": [
       "'ineuron'"
      ]
     },
     "execution_count": 11,
     "metadata": {},
     "output_type": "execute_result"
    }
   ],
   "source": [
    "#Q :try to extract \"ineuron\" out of this data\n",
    "l[4]['k2']"
   ]
  },
  {
   "cell_type": "code",
   "execution_count": 12,
   "metadata": {},
   "outputs": [
    {
     "data": {
      "text/plain": [
       "[[1, 2, 3, 4],\n",
       " (5, 6, 7, 8),\n",
       " (3, 4, 5, 6, 7, 3, 4, 5, 3),\n",
       " {1, 2, 3, 4, 5, 6, 32, 46},\n",
       " {'key1': 'sudh', 'k2': 'ineuron', 'k3': 'kumar', 3: 6, 7: 8},\n",
       " ['ineuron', 'datascience']]"
      ]
     },
     "execution_count": 12,
     "metadata": {},
     "output_type": "execute_result"
    }
   ],
   "source": [
    "l"
   ]
  },
  {
   "cell_type": "code",
   "execution_count": 13,
   "metadata": {},
   "outputs": [
    {
     "data": {
      "text/plain": [
       "{32: 1, 1: 2, 2: 2, 3: 6, 4: 4, 5: 4, 6: 4, 7: 3, 8: 2, 46: 1}"
      ]
     },
     "execution_count": 13,
     "metadata": {},
     "output_type": "execute_result"
    }
   ],
   "source": [
    "#Q10 : try to extract all numbers occurances in the data\n",
    "num_occ ={}\n",
    "for i in set(num):\n",
    "    num_occ[i] = num.count(i)\n",
    "num_occ    "
   ]
  },
  {
   "cell_type": "code",
   "execution_count": 14,
   "metadata": {},
   "outputs": [
    {
     "data": {
      "text/plain": [
       "5"
      ]
     },
     "execution_count": 14,
     "metadata": {},
     "output_type": "execute_result"
    }
   ],
   "source": [
    "#Q11 : try to find out number of keys in dict element\n",
    "len(l[4])"
   ]
  },
  {
   "cell_type": "code",
   "execution_count": 15,
   "metadata": {},
   "outputs": [
    {
     "data": {
      "text/plain": [
       "['key1', 'sudh', 'k2', 'ineuron', 'k3', 'kumar', 'ineuron', 'datascience']"
      ]
     },
     "execution_count": 15,
     "metadata": {},
     "output_type": "execute_result"
    }
   ],
   "source": [
    "#Q12 : try to filter out all the string data\n",
    "strings =[]\n",
    "for i in l:\n",
    "    if type(i) == str:\n",
    "        strings.append(i)\n",
    "    elif type(i) in [list,set,tuple]:\n",
    "        for j in i:\n",
    "            if type(j) == str :\n",
    "                strings.append(j)\n",
    "    elif type(i) is dict:\n",
    "        for k,v in i .items():\n",
    "            if type(k) == str:\n",
    "                strings.append(k)\n",
    "            if type(v) == str :\n",
    "                strings.append(v)\n",
    "\n",
    "strings    "
   ]
  },
  {
   "cell_type": "code",
   "execution_count": 16,
   "metadata": {},
   "outputs": [
    {
     "name": "stdout",
     "output_type": "stream",
     "text": [
      "key1\n",
      "sudh\n",
      "k2\n",
      "ineuron\n",
      "k3\n",
      "kumar\n",
      "ineuron\n",
      "datascience\n"
     ]
    }
   ],
   "source": [
    "#Q13 : try to find out alphanum in data\n",
    "for i in strings:\n",
    "    if i.isalnum():\n",
    "        print(i)\n",
    "        "
   ]
  },
  {
   "cell_type": "code",
   "execution_count": 17,
   "metadata": {},
   "outputs": [
    {
     "name": "stdout",
     "output_type": "stream",
     "text": [
      "[1, 2, 3, 4] 24\n",
      "(5, 6, 7, 8) 1680\n",
      "(3, 4, 5, 6, 7, 3, 4, 5, 3) 453600\n",
      "{32, 1, 2, 3, 4, 5, 6, 46} 1059840\n",
      "['ineuron', 'datascience'] 1\n"
     ]
    }
   ],
   "source": [
    "#Q14 : try to find out multiplication of all the individual collection inside datasset \n",
    "for i in l :\n",
    "    if type(i) in [set,tuple,list]:\n",
    "        mul = 1\n",
    "        for j in i :\n",
    "            if type(j) is int:\n",
    "                mul = mul*j\n",
    "        print(i,mul)"
   ]
  },
  {
   "cell_type": "code",
   "execution_count": 18,
   "metadata": {},
   "outputs": [],
   "source": [
    "#Q15: try to unwrange al the collection inside collection and create a flat list"
   ]
  },
  {
   "cell_type": "code",
   "execution_count": 19,
   "metadata": {},
   "outputs": [
    {
     "data": {
      "text/plain": [
       "[[1, 2, 3, 4],\n",
       " (5, 6, 7, 8),\n",
       " (3, 4, 5, 6, 7, 3, 4, 5, 3),\n",
       " {1, 2, 3, 4, 5, 6, 32, 46},\n",
       " {'key1': 'sudh', 'k2': 'ineuron', 'k3': 'kumar', 3: 6, 7: 8},\n",
       " ['ineuron', 'datascience']]"
      ]
     },
     "execution_count": 19,
     "metadata": {},
     "output_type": "execute_result"
    }
   ],
   "source": [
    "l= [[1,2,3,4],(5,6,7,8),(3,4,5,6,7,3,4,5,3), set([1,2,3,4,5,32,46,3,4,6]),{'key1':'sudh','k2':'ineuron','k3':'kumar',3:6,7:8},['ineuron','datascience']]\n",
    "l"
   ]
  },
  {
   "cell_type": "code",
   "execution_count": 20,
   "metadata": {},
   "outputs": [
    {
     "data": {
      "text/plain": [
       "[1,\n",
       " 2,\n",
       " 3,\n",
       " 4,\n",
       " 5,\n",
       " 6,\n",
       " 7,\n",
       " 8,\n",
       " 3,\n",
       " 4,\n",
       " 5,\n",
       " 6,\n",
       " 7,\n",
       " 3,\n",
       " 4,\n",
       " 5,\n",
       " 3,\n",
       " 32,\n",
       " 1,\n",
       " 2,\n",
       " 3,\n",
       " 4,\n",
       " 5,\n",
       " 6,\n",
       " 46,\n",
       " 'key1',\n",
       " 'sudh',\n",
       " 'k2',\n",
       " 'ineuron',\n",
       " 'k3',\n",
       " 'kumar',\n",
       " 3,\n",
       " 6,\n",
       " 7,\n",
       " 8,\n",
       " 'ineuron',\n",
       " 'datascience']"
      ]
     },
     "execution_count": 20,
     "metadata": {},
     "output_type": "execute_result"
    }
   ],
   "source": [
    "l2=[]\n",
    "for i in l :\n",
    "    if type(i) in [list,set,tuple]:\n",
    "        for j in i :\n",
    "            l2.append(j)\n",
    "    elif type(i) is dict :\n",
    "        for k,v in i.items():\n",
    "            l2 = l2 + [k,v]\n",
    "     \n",
    "l2\n",
    "\n",
    "\n",
    "                     "
   ]
  },
  {
   "cell_type": "code",
   "execution_count": null,
   "metadata": {},
   "outputs": [],
   "source": []
  },
  {
   "cell_type": "code",
   "execution_count": null,
   "metadata": {},
   "outputs": [],
   "source": []
  }
 ],
 "metadata": {
  "kernelspec": {
   "display_name": "Python 3",
   "language": "python",
   "name": "python3"
  },
  "language_info": {
   "codemirror_mode": {
    "name": "ipython",
    "version": 3
   },
   "file_extension": ".py",
   "mimetype": "text/x-python",
   "name": "python",
   "nbconvert_exporter": "python",
   "pygments_lexer": "ipython3",
   "version": "3.7.6"
  }
 },
 "nbformat": 4,
 "nbformat_minor": 4
}
