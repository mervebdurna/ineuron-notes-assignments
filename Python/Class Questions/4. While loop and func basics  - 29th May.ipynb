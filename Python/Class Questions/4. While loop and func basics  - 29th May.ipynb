{
 "cells": [
  {
   "cell_type": "markdown",
   "metadata": {},
   "source": [
    "# Questions"
   ]
  },
  {
   "cell_type": "code",
   "execution_count": 3,
   "metadata": {},
   "outputs": [],
   "source": [
    "# Q1 : try to print below pattern with while loop :\n",
    "# *\n",
    "# * *\n",
    "# * * *\n",
    "# * * * *\n",
    "# * * * * * \n",
    "# * * * * * *\n",
    "# * * * * * * *\n",
    "# * * * * * * * *\n",
    "\n",
    "# Q2 : try to print below pattern with while loop :\n",
    "# A\n",
    "# B H \n",
    "# C I N\n",
    "# D J O S \n",
    "# E K P T W\n",
    "# F L Q U X Z\n",
    "# G H R V Y\n",
    "\n",
    "# Q3 : try to print all the number divisible by 3 in  between range of 40-400\n",
    "\n",
    "# Q4 : Try to filter out all the vowels from below text by using while loop \n",
    "#\"\"\"Python is a high-level, interpreted, general-purpose programming language. Its design philosophy emphasizes code readability with the use of significant indentation.[32]\n",
    "#\n",
    "#Python is dynamically-typed and garbage-collected. It supports multiple programming paradigms, including structured (particularly procedural), object-oriented and functional programming. It is often described as a \"batteries included\" language due to its comprehensive standard library.[33][34]\n",
    "#\n",
    "#Guido van Rossum began working on Python in the late 1980s as a successor to the ABC programming language and first released it in 1991 as Python 0.9.0.[35] Python 2.0 was released in 2000 and introduced new features such as list comprehensions, cycle-detecting garbage collection, reference counting, and Unicode support. Python 3.0, released in 2008, was a major revision that is not completely backward-compatible with earlier versions. Python 2 was discontinued with version 2.7.18 in 2020.[36]\n",
    "#\n",
    "#Python consistently ranks as one of the most popular programming languages\"\"\"\n",
    "\n",
    "# Q5 : try to genereate all the even number between 1-1000\n",
    "\n",
    "# Q6 : Define a function for all the above problem statement\n",
    "\n",
    "# Q7 :write the code to get the time in your system\n",
    "\n",
    "# Q8: write the code to fetch data frm your system\n",
    "\n",
    "# Q9 : write a code to send a mail to your friend\n",
    "\n",
    "# Q10 : write a code to trigger alarm for your at scheduled time\n",
    "\n",
    "# Q11 : write the code to check ip address of your system\n",
    "\n",
    "# Q12 : write a code to check a particular installation in your system\n",
    "\n",
    "# Q13 :write a code to convert any text to voice\n",
    "\n",
    "# Q14 : write a func which return the length of the text without using in-built function len()\n",
    "\n",
    "# Q15 :write a func which will be able to print an index of all premitive element which will you pass\n",
    "\n",
    "# Q16 :write a func which will take input as a dict and give me out as list of all values even in case of 2 level nesting it should work\n",
    "\n",
    "# Q17 : write a func which will take multiple list as a input and give me concatination of all the element as and output\n",
    "\n",
    "# Q18 : write a func which will return list of all the file name from a directory\n",
    "\n",
    "# Q19 : write a func which will be able to read a image file and sshow it to you \n",
    "\n",
    "# Q20 : write a func which will be able to append two pdf files\n",
    "\n",
    "# Q21 : write a function which can help you to filter only word file from a directory\n",
    "\n",
    "# Q22 : write a function which can read video file and play for you  \n",
    "\n",
    "# Q23 : write a function whic will be able to shut down your system\n",
    "\n",
    "# Q24 : write a function which will would return list of all the file from a directory \n",
    "\n",
    "# Q25 : write a func which will be able to access your mail\n",
    "\n"
   ]
  },
  {
   "cell_type": "code",
   "execution_count": null,
   "metadata": {},
   "outputs": [],
   "source": []
  },
  {
   "cell_type": "code",
   "execution_count": null,
   "metadata": {},
   "outputs": [],
   "source": []
  }
 ],
 "metadata": {
  "kernelspec": {
   "display_name": "Python 3",
   "language": "python",
   "name": "python3"
  },
  "language_info": {
   "codemirror_mode": {
    "name": "ipython",
    "version": 3
   },
   "file_extension": ".py",
   "mimetype": "text/x-python",
   "name": "python",
   "nbconvert_exporter": "python",
   "pygments_lexer": "ipython3",
   "version": "3.7.6"
  }
 },
 "nbformat": 4,
 "nbformat_minor": 4
}
